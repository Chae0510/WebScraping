{
 "cells": [
  {
   "cell_type": "code",
   "execution_count": 45,
   "metadata": {},
   "outputs": [],
   "source": [
    "import requests\n",
    "from bs4 import BeautifulSoup\n",
    "import csv"
   ]
  },
  {
   "cell_type": "code",
   "execution_count": 46,
   "metadata": {},
   "outputs": [],
   "source": [
    "def extract_page_data(soup):\n",
    "    items = soup.find_all('div', {'class': 'v2-listing-card__info'})\n",
    "    data = []\n",
    "    for item in items:\n",
    "        # 아이템 이름 긁기\n",
    "        title_tag = item.find('h3', {'class': ['wt-text-caption', 'v2-listing-card__title', 'wt-text-truncate']})\n",
    "        item_name = title_tag.get_text(strip=True) if title_tag else 'No Title'\n",
    "        \n",
    "        # 아이템 가격\n",
    "        price_element = item.find('span', {'class': 'currency-value'})\n",
    "        price = price_element.text.strip() if price_element else 'No price'\n",
    "        \n",
    "        # 무료 배송 여부 확인\n",
    "        shipping_element = item.find('span', {'class': 'wt-text-grey wt-text-body-smaller'})\n",
    "        free_shipping = 'O' if shipping_element and 'Free shipping' in shipping_element.text else 'X'\n",
    "        \n",
    "        # 리뷰 수\n",
    "        review_count_element = item.find('p', {'class': 'wt-text-body-smaller'})\n",
    "        review_count = review_count_element.text.strip().replace('(', '').replace(')', '') if review_count_element else 'No reviews'\n",
    "        \n",
    "        data.append([item_name, price, free_shipping, review_count])\n",
    "    return data"
   ]
  },
  {
   "cell_type": "code",
   "execution_count": 47,
   "metadata": {},
   "outputs": [],
   "source": [
    "# Main function to scrape data\n",
    "def scrape_etsy(url, pages):\n",
    "    all_data = []\n",
    "    for page in range(1, pages + 1):\n",
    "        print(f'Scraping page {page}...')\n",
    "        response = requests.get(url + f'&page={page}')\n",
    "        soup = BeautifulSoup(response.content, 'html.parser')\n",
    "        page_data = extract_page_data(soup)\n",
    "        all_data.extend(page_data)\n",
    "    return all_data"
   ]
  },
  {
   "cell_type": "code",
   "execution_count": 48,
   "metadata": {},
   "outputs": [
    {
     "name": "stdout",
     "output_type": "stream",
     "text": [
      "Scraping page 1...\n",
      "Scraping page 2...\n",
      "Scraping page 3...\n",
      "Scraping page 4...\n",
      "Scraping page 5...\n",
      "Scraping page 6...\n",
      "Scraping page 7...\n",
      "Scraping page 8...\n",
      "Scraping page 9...\n",
      "Scraping page 10...\n",
      "Scraping page 11...\n",
      "Scraping page 12...\n",
      "Scraping page 13...\n",
      "Scraping page 14...\n",
      "Scraping page 15...\n",
      "Scraping page 16...\n",
      "Scraping page 17...\n",
      "Scraping page 18...\n",
      "Scraping page 19...\n",
      "Scraping page 20...\n",
      "Scraping page 21...\n",
      "Scraping page 22...\n",
      "Scraping page 23...\n",
      "Scraping page 24...\n",
      "Scraping page 25...\n",
      "Scraping page 26...\n",
      "Scraping page 27...\n",
      "Scraping page 28...\n",
      "Scraping page 29...\n",
      "Scraping page 30...\n",
      "Scraping page 31...\n",
      "Scraping page 32...\n",
      "Scraping page 33...\n",
      "Scraping page 34...\n",
      "Scraping page 35...\n",
      "Scraping page 36...\n",
      "Scraping page 37...\n",
      "Scraping page 38...\n",
      "Scraping page 39...\n",
      "Scraping page 40...\n",
      "Scraping page 41...\n",
      "Scraping page 42...\n",
      "Scraping page 43...\n",
      "Scraping page 44...\n",
      "Scraping page 45...\n",
      "Scraping page 46...\n",
      "Scraping page 47...\n",
      "Scraping page 48...\n",
      "Scraping page 49...\n",
      "Scraping page 50...\n"
     ]
    }
   ],
   "source": [
    "# URL of the Etsy category to scrape\n",
    "url = 'https://www.etsy.com/search?q=bracelet&anchor_listing_id=854275908&ref=hp_bubbles_VDAY24_CoreMarkets&mosv=sese&moci=1226894514292&mosi=1231853541395&is_merch_library=true' # Update this URL as needed\n",
    "pages_to_scrape = 100 # 크롤링 할 페이지 수\n",
    "\n",
    "# Scraping data\n",
    "data = scrape_etsy(url, pages_to_scrape)"
   ]
  },
  {
   "cell_type": "markdown",
   "metadata": {},
   "source": []
  },
  {
   "cell_type": "code",
   "execution_count": 49,
   "metadata": {},
   "outputs": [
    {
     "name": "stdout",
     "output_type": "stream",
     "text": [
      "Scraping completed and data saved to items.csv\n"
     ]
    }
   ],
   "source": [
    "# Save data to CSV\n",
    "with open('/Users/baekchaeyoon/Desktop/LAproject/Homework/items.csv', 'w', newline='', encoding='utf-8') as file:\n",
    "    writer = csv.writer(file)\n",
    "    writer.writerow(['Item Name', 'Sale Price', 'Free Shipping', 'Total reviews'])\n",
    "    writer.writerows(data)\n",
    "\n",
    "print('Scraping completed and data saved to items.csv')"
   ]
  }
 ],
 "metadata": {
  "kernelspec": {
   "display_name": "base",
   "language": "python",
   "name": "python3"
  },
  "language_info": {
   "codemirror_mode": {
    "name": "ipython",
    "version": 3
   },
   "file_extension": ".py",
   "mimetype": "text/x-python",
   "name": "python",
   "nbconvert_exporter": "python",
   "pygments_lexer": "ipython3",
   "version": "3.9.13"
  }
 },
 "nbformat": 4,
 "nbformat_minor": 2
}
